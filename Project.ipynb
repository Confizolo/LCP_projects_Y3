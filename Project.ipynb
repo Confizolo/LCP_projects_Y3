{
 "cells": [
  {
   "cell_type": "markdown",
   "metadata": {},
   "source": [
    "# Simulation of a positron-induced Muon Source (part 1)\n",
    "\n",
    "### Description\n",
    "\n",
    "The production of a high brillance muon beam is one of the most important challenge for the future of Particle Physics. A particularly interesting idea consists of shooting high energy positrons on a target, aiming at the production of muons by means of the process $e^+ + e^- \\rightarrow \\mu^+ + \\mu^-$. To mimize the divergence of the resulting \"muon beam\", the positrons energy is chosen so that the reaction occurs close to threshold (assuming the electrons in the target to be at rest). The main goal of this project is to produce a Monte Carlo simulation of such a process. \n",
    "\n",
    "### Assignments\n",
    "\n",
    "The project is split into two parts, which are both reported here for consistency. This group has only to cover _part 1_.\n",
    "\n",
    "#### Part 1: generate a simulated dataset of $e^+ + e^- \\rightarrow \\mu^+ + \\mu^-$ events.\n",
    "\n",
    "1. Compute the process leading-order cross section, $\\sigma(\\theta; \\sqrt{s})$, as a function of the scattering angle $\\theta$ and with the  center of mass energy $\\sqrt{s}$ as a parameter. Start by computing it in the center of mass system. N.B.: textbooks reports such cross section in the relativistic limit, i.e. for $\\sqrt{s}\\gg m_\\mu$, which is clearly not the case here ($\\sqrt{s}\\sim 2m_\\mu$);\n",
    "2. compute and display the angle and momentum components distributions of the emerging muon pairs;\n",
    "3. boost muons four-momenta in the laboratory frame, i.e. in the frame where the electron is at rest and the positron has enough energy to give rise to the process;\n",
    "4. write a Monte Carlo simulation that generates scattering events following the distributions that you found analytically; \n",
    "5. produce a synthetic dataset of about $N=10^5$ (or more) events. Events should be listed as rows in a file with columns representing the muons coordinates (keep in mind that in the lab frame muons are relativistic and thus the number of coordinates can be only 3 per muon);\n",
    "6. assume a $3$ cm thick Beryllium block is used as target and a rate of positron on target of $10^6$ Hz. Compute the rescaling factor (weight) you need to apply to the $N$ simulated events such that they represent the statistics that would be gathered in a week of countinuous operations;\n",
    "7. repeat what done so far simulating now the actual transverse shape and energy spread of the beam: for the former assume a flat distribution in a circle of radius $r=1$ cm and for the latter a gaussian distribution centered at the nominal beam energy and a width of $0.5$ GeV;\n",
    "8. given that the electrons traversing the target lose energy as $E(z)=E_0 \\exp{-z/X_0}$ (with z the longitudinal coordinate of the target, the one parallel to the beam direction and $X_0$ (35.28 cm, Dudo) is the Beryllium radiation length), compute the nominal beam energy $E_0$ such that muon pairs can be generated along the whole length of the target;\n",
    "9. (optional) take the former point into account when generating the events (i.e. the proccess $\\sqrt{s}$ depend on the position along the target where the $e^+ - e^-$ scattering occurrs."
   ]
  },
  {
   "cell_type": "markdown",
   "metadata": {},
   "source": [
    "### Simulation of positron-induced Muon Source\n",
    "\n",
    "The main goal of this project is the simulation of a muon source induced by an electron-positron pair annihilation.\n",
    "The calculation of the cross section comes from the derivation of the unpolarised scattering amplitude - we are not interested in the polarisation of both incoming and outgoing particles. \n",
    "Moreover, we are not interested in considering the annihilation in the usual Ultra Relativistic limit ($m \\sim 0$), but we are interested in the range of energy close to the threshold for the muon pair production: $\\sqrt s \\sim 2m_\\mu$. \n",
    "\n",
    "1. The differential cross section for the considered process, in the CoM frame (\\*-quantities), has the following expression: $$\\left(\\frac{d\\sigma}{d\\Omega}\\right)^* \\Big\\rvert_{CoM} (\\sqrt s, \\theta^*, \\phi^*)= \\frac{\\alpha^2}{4s}\\left(1-\\frac{4m_\\mu^2}{s}\\right)^{1/2}\\left(1-\\frac{4m_e^2}{s}\\right)^{-1/2}\\left[1+\\frac{4}{s}\\left(m_e^2+m_\\mu^2\\right)+\\left(1-\\frac{4m_\\mu^2}{s}\\right)\\left(1-\\frac{4m_e^2}{s}\\right)\\cos^2\\theta^*\\right]$$\n",
    "\n",
    "where the differential cross section in the center of mass is expressed as a function of the (CoM) energy $\\sqrt s$ (the first Mandelstam variable, equal for both $e$ and $\\mu$ pairs in che cms frame), the masses of $e^+$ and $e^-$ $m_e$ and of the muons $m_\\mu$, and the emission angle in the center of mass $\\theta$. ($\\alpha$ is the EM constant, $\\alpha=\\frac{e^2}{4\\pi}$). One can also notice that the differential cross section depends only on the $\\theta$ angle, and not on the other angle $\\phi$.\n",
    "\n",
    "The total cross section can be found integrating over the solid angle. \n",
    "$$ \\sigma (\\sqrt s) = \\int_{4\\pi} d \\Omega^* \\frac{d\\sigma^*}{d\\Omega^*} = \\int_0^{\\pi} d\\theta^* sin\\theta^* \\int_0^{2\\pi} d\\phi^* \\frac{d\\sigma^*}{d\\Omega^*} =  4\\pi\\frac{\\alpha^2}{3s^3}\\left(1-\\frac{4m_\\mu^2}{s}\\right)^{1/2}\\left(1-\\frac{4m_e^2}{s}\\right)^{-1/2}(2m_e^2+s)(2m_\\mu^2+s) $$ \n",
    " \n",
    "2. The angular distribution can be simply computed normalizing the differential cross section with respect to the total one: \n",
    "$$ f(\\theta^*, \\phi^*) = \\frac{1}{\\sigma} \\frac{d\\sigma^*}{d\\Omega^*}$$ \n",
    "\n",
    "As we are considering a case in which we have a stationary target, we need to pass from the CM coordinates to the LAB ones. Of course a Lorentz boost is going to be involved for both angles and spatial coordinates. \n",
    "\n",
    "In the CM frame, the 4-momentum for the incoming and outgoing particles can be written as: \n",
    "$$p_{e^\\pm}^* = (E^*, \\pm \\vec p_e^{\\,*}) \\,\\,\\,\\,\\,\\,\\, p_{\\mu ^\\pm}^{\\prime\\,*} = (E^*, \\pm \\vec p_\\mu^{\\,\\prime\\,*})$$\n",
    "\n",
    "The speed of the center of mass $\\beta^*$, in the case in which we consider the electron at rest is given by: \n",
    "        $$ \\beta^* = \\frac{p_{e^+}}{E_{e^+}+m_{e^-}}$$\n",
    "Moreover, as we consider a process in which there is the production of two muons ($m_\\mu \\sim 207 m_e$), we can well approximate the parameter $ \\beta^* \\sim \\frac{p_{e^+}}{E_{e^+}} = \\beta_{e^+} $\n",
    "\n",
    "The energy of the CoM $E^*$ can be written in terms of the Mandelstam variable *s*: $\\sqrt s = \\sqrt{p_{e^-}^2+p_{e^+}^2} = 2E^*$ ( $\\sim 2m_\\mu$ in the considered case).\n",
    "\n",
    "And so, it follows:\n",
    "\n",
    "$$\\beta^*_{e^\\pm} = \\frac{\\lvert\\vec p^{\\,*}\\rvert}{E^*} = \\frac{ \\sqrt{(E^*)^2-m_e^2}}{E^*} = \\sqrt{1-\\frac{4m_e^2}{s} } $$\n",
    "\n",
    "And analogously, $$\\beta^*_{\\mu^\\pm} = \\sqrt{1-\\frac{4m_\\mu^2}{s}}$$\n",
    "(The factors we have in the cross section formula).\n",
    "\n",
    "\n",
    "\n"
   ]
  },
  {
   "cell_type": "markdown",
   "metadata": {},
   "source": [
    "2. Compute and display the angle and momentum components distributions of the emerging muon pairs;"
   ]
  },
  {
   "cell_type": "code",
   "execution_count": 2,
   "metadata": {},
   "outputs": [
    {
     "data": {
      "text/plain": [
       "<Figure size 640x480 with 1 Axes>"
      ]
     },
     "metadata": {},
     "output_type": "display_data"
    },
    {
     "name": "stdout",
     "output_type": "stream",
     "text": [
      "It can be also verified that this function is well reproduced at different values of s.\n"
     ]
    }
   ],
   "source": [
    "import numpy as np \n",
    "import pandas as pd\n",
    "import matplotlib.pyplot as plt\n",
    "import seaborn as sns\n",
    "import math\n",
    "#import spingi as sp\n",
    "#import amonoi as ano\n",
    "\n",
    "alpha  = 1/(137.035999084) #dimensionless CODATA 2018 Fine-Structure constant\n",
    "m_muon = 105.6583755       #[MeV] CODATA 2018 Muon mass\n",
    "m_e    = 0.51099895        #[MeV] CODATA 2018 Electron mass\n",
    "s      = 220**2            #[MeV] For the sake of simplicity we take as a reference pow(sqrt(s),2). \n",
    "                           #We have choosen a s-value close to 2 m_mu, as required by the considered process\n",
    "\n",
    "\n",
    "def dsigmadtheta(s,theta, phi = 0):\n",
    "    return (alpha**2/(4*s))*(1-(4*m_muon)/s)**0.5*((1-(4*m_e)/s))**-0.5*(1+(4/s)*(m_e**2+m_muon**2)+(1-(4*m_e)/s)*(1-(4*m_muon)/s)*np.cos(theta)**2)\n",
    "\n",
    "def sigma(s):\n",
    "    return 4*np.pi*(alpha**2/(3*s**3))*(1-(4*m_muon)/s)**0.5*((1-(4*m_e)/s))**-0.5*(2*m_e**2+s)*(2*m_muon**2+s)\n",
    "    \n",
    "def f(s, theta, phi = 0):\n",
    "    return dsigmadtheta(s,theta)/sigma(s)\n",
    "\n",
    "\n",
    "x = np.linspace(0,np.pi,100)\n",
    "plt.title(\"Angle Distribution\")\n",
    "plt.xlabel(r'Center of mass emission angle $\\theta^*[rad]$' )\n",
    "plt.ylabel(r'Angle distribution $f(\\sqrt{s} = 220 MeV, \\theta^*)$' )\n",
    "plt.plot(x, f(s,x))\n",
    "plt.show()\n",
    "\n",
    "print(\"It can be also verified that this function is well reproduced at different values of s.\")"
   ]
  },
  {
   "cell_type": "markdown",
   "metadata": {},
   "source": [
    "In order to write the actual components of the momentum of the emitted muons, we need to generate some random numbers distributed accordingly to the angle distribution just shown.\n",
    "\n",
    "In order to achieve such a result, we need to calculate the cumulative density funcion (CDF) of the angle distribution $f(\\theta^*, \\phi^*) := g(\\theta^*, 2\\pi)$. For simplicity we will consider $\\phi^* = 2\\pi$ as the contribution in $\\phi$ is actually neglected.\n",
    "\n",
    "\\begin{aligned}\n",
    "g(\\theta^*) = \\int _{0}^{\\theta^*}dx\\sin x\\frac{3}{4}\\frac{2\\pi}{4\\pi} \\dfrac{s^2}{\\left( 2m_e^{2}+s\\right) \\left( 2m_{\\mu }^{2}+s\\right) }\\left( 1+\\dfrac{4}{s}\\left( m_{e}^{2}+m_{\\mu}^{2}\\right) +\\left( 1-\\dfrac{4m_{e}^{2}}{s}\\right)\\left( 1-\\dfrac{4m_{\\mu}^{2}}{s}\\right) \\cos^2x \\right)\\\\\n",
    "\\end{aligned}\n",
    "\n",
    "\n",
    "\\begin{aligned}\n",
    "= \\frac{3}{8} \\dfrac{s^2}{\\left( 2m_e^{2}+s\\right) \\left( 2m_{\\mu }^{2}+s\\right) }\\left( - \\left( 1+\\dfrac{4}{s}\\left( m_{e}^{2}+m_{\\mu}^{2}\\right)\\right)\\cos x+\\left( - \\frac{1}{3}\\left( 1-\\dfrac{4m_{e}^{2}}{s}\\right)\\left( 1-\\dfrac{4m_{\\mu}^{2}}{s}\\right) \\right)\\cos^3 x \\right) \\Big\\rvert_0^{\\theta^*}\\\\\n",
    "\\end{aligned}\n",
    "\n",
    "\\begin{aligned}\n",
    "= \\frac{3}{8} \\dfrac{s^2}{\\left( 2m_e^{2}+s\\right) \\left( 2m_{\\mu }^{2}+s\\right) }\\left( \\left( 1+\\dfrac{4}{s}\\left( m_{e}^{2}+m_{\\mu}^{2}\\right)\\right)(1-\\cos \\theta^*)+\\left(\\frac{1}{3}\\left( 1-\\dfrac{4m_{e}^{2}}{s}\\right)\\left( 1-\\dfrac{4m_{\\mu}^{2}}{s}\\right) \\right)(1-\\cos^3 \\theta^*) \\right)\\\\\n",
    "\\end{aligned}\n"
   ]
  },
  {
   "cell_type": "code",
   "execution_count": 14,
   "metadata": {},
   "outputs": [
    {
     "data": {
      "image/png": "[encoded data removed]",
      "text/plain": [
       "<Figure size 432x288 with 1 Axes>"
      ]
     },
     "metadata": {
      "needs_background": "light"
     },
     "output_type": "display_data"
    }
   ],
   "source": [
    "def g(s, x): #x is a dummy for theta star\n",
    "    return s**2*3./8.*((1+4*(m_e**2+m_muon**2)/s)*(1-np.cos(x))+(1-4*m_e**2/s)*(1-4*m_muon**2/s)*(1-np.cos(x))/3)/((2*m_e**2+s)*(2*m_muon**2+s))\n",
    "\n",
    "plt.title(\"Cumulative function for the angle distribution\")\n",
    "plt.xlabel(r'Center of mass emission angle $\\theta^*[rad]$' )\n",
    "plt.ylabel(r'Cumulative function, $g(\\sqrt{s} = 220 MeV, \\theta^*)$' )\n",
    "\n",
    "plt.plot(x,g(s,x))\n",
    "plt.show()"
   ]
  },
  {
   "cell_type": "markdown",
   "metadata": {},
   "source": [
    "We can now observe that the norm of the momentum of the outgoing muon can be written as follows:\n",
    "$$ \\lvert \\vec p^{\\,*}_\\mu \\rvert = \\sqrt {\\frac{s}{4}-m_\\mu^2} $$\n",
    "And the momentum components' distributions can be simply derived knowing the center of mass energy - s - and the emission angles in the CoM - $ \\theta^* $ and $ \\phi^* $. \n",
    "\n",
    "$$ p^*_\\mu = \\lvert \\vec p^{\\,*}_\\mu \\rvert (\\sqrt(s)/\\lvert \\vec p^{\\,*}_\\mu \\rvert, sin\\theta^* cos\\phi, sin\\theta^* sin\\phi, cos\\theta^*) $$\n",
    "\n",
    "3. Finally, the relation between the Lab angles and the COM ones has the usual formula: \n",
    "$$tan \\theta_\\mu  = \\frac {sin\\theta^*_\\mu}{\\gamma(cos\\theta^*_\\mu+\\beta / \\beta^*_\\mu)}   $$\n",
    "\n",
    "If we are consider, without loss of generalities, a boost towards the x axis, the relatoins between the energy and momentum components become:  \n",
    "$$ E_1 = \\gamma ( E^*+\\beta p^*) \\,\\,\\,\\,\\,\\, p_1 = \\gamma(\\beta E^*+p^* ) $$\n",
    "\n",
    "$$ E_2 = \\gamma ( E^*-\\beta p^*) \\,\\,\\,\\,\\,\\, p_2 = \\gamma(\\beta E^*-p^* ) $$"
   ]
  },
  {
   "cell_type": "markdown",
   "metadata": {},
   "source": []
  },
  {
   "cell_type": "code",
   "execution_count": 71,
   "metadata": {
    "scrolled": true
   },
   "outputs": [
    {
     "data": {
      "image/png": "[encoded data removed]",
      "text/plain": [
       "<Figure size 432x288 with 3 Axes>"
      ]
     },
     "metadata": {
      "needs_background": "light"
     },
     "output_type": "display_data"
    }
   ],
   "source": [
    "from scipy.interpolate import UnivariateSpline\n",
    "from scipy.interpolate import InterpolatedUnivariateSpline\n",
    "from matplotlib import pyplot as plt \n",
    "\n",
    "fig, ax = plt.subplots(1,3)\n",
    "N = 10**5\n",
    "\n",
    "theta_star = np.linspace(0, np.pi, N)\n",
    "#theta_star_sorted = np.sort(theta_star) #sort the angles\n",
    "inv_cdf_nostro = UnivariateSpline(g(s,theta_star_sorted),theta_star_sorted, ext=0)\n",
    "inv_cdf_nostro2 = InterpolatedUnivariateSpline(g(s,theta_star_sorted),theta_star_sorted, ext=0)\n",
    "\n",
    "\n",
    "ax[0].plot(theta_star_sorted,\n",
    "        g(s,theta_star_sorted),\n",
    "        '*',\n",
    "         color = 'grey',\n",
    "        label = 'Samples')\n",
    "ax[1].plot(theta_star_sorted,\n",
    "        g(s,theta_star_sorted),\n",
    "        '*',\n",
    "         color = 'grey',\n",
    "        label = 'Samples')\n",
    "ax[2].plot(theta_star_sorted,\n",
    "        g(s,theta_star_sorted),\n",
    "        '*',\n",
    "         color = 'grey',\n",
    "        label = 'Samples')\n",
    "\n",
    "#versione mastrovalenz\n",
    "inv_cdf = interp1d(g(s, theta_star), theta_star, fill_value=\"extrapolate\")\n",
    "\n",
    "numeri = np.random.rand(N)\n",
    "num_sort = np.sort(numeri)\n",
    "\n",
    "ax[0].plot(inv_cdf_nostro(num_sort),\n",
    "           num_sort,\n",
    "           color = 'red',\n",
    "           label = 'Quantile predictor')\n",
    "\n",
    "\n",
    "ax[1].plot(inv_cdf(num_sort),\n",
    "         num_sort,\n",
    "        color = 'green',\n",
    "        label = 'inv_cdf mastrovalenz')\n",
    "\n",
    "ax[2].plot(inv_cdf_nostro2(num_sort),\n",
    "         num_sort,\n",
    "        color = 'green',\n",
    "        label = 'inv_cdf nostra 2')\n",
    "plt.show()\n",
    "\n",
    "\n",
    "#https://stackoverflow.com/questions/6216881/python-interp1d-vs-univariatespline"
   ]
  },
  {
   "cell_type": "code",
   "execution_count": 22,
   "metadata": {},
   "outputs": [],
   "source": [
    "from scipy.interpolate import interp1d\n",
    "inv_cdf = interp1d(g(s, theta_star), theta_star, fill_value=\"extrapolate\")"
   ]
  },
  {
   "cell_type": "code",
   "execution_count": 24,
   "metadata": {},
   "outputs": [
    {
     "data": {
      "text/plain": [
       "[<matplotlib.lines.Line2D at 0x7fed67358550>]"
      ]
     },
     "execution_count": 24,
     "metadata": {},
     "output_type": "execute_result"
    },
    {
     "data": {
      "image/png": "[encoded data removed]",
      "text/plain": [
       "<Figure size 432x288 with 1 Axes>"
      ]
     },
     "metadata": {
      "needs_background": "light"
     },
     "output_type": "display_data"
    }
   ],
   "source": [
    "plt.plot(theta_star_sorted,\n",
    "        g(s,theta_star_sorted),\n",
    "        '*',\n",
    "        label = 'Samples')\n",
    "plt.plot(quantile_func(g(s,theta_star_sorted)),\n",
    "        g(s,theta_star_sorted),\n",
    "        color = 'red',\n",
    "        label = 'Quantile predictor')\n"
   ]
  },
  {
   "cell_type": "markdown",
   "metadata": {},
   "source": [
    "In order to have threshold production of a muon pair, $\\sqrt {s}$ should be slightly grater than the sum of the mass of two muons\n",
    "$$\\sqrt {s} > 2m_\\mu \\rightarrow \\sqrt {s} > 4m_\\mu^2 $$ \n",
    "So, rewriting the invariant quantity $\\sqrt{s}$ in the laboratory frame while taking into account that the electron is at rest we obtain\n",
    "$$ s = E_{e_+}^2 + E_{e_-}^2+2E_{e_+}E_{e_-}-P_{e_+}^2 = E_{e_+}^2 + m_{e_-}^2+2E_{e_+}m_{e_-}-p_{e_+}^2$$\n",
    "Joining the two conditions:\n",
    "$$2E_{e_+}m_{e_-}>4m_{\\mu}^2-2m_{e_-}^2$$\n",
    "And finally the condition on the energy of the positron:\n",
    "$$E_{e_+}>\\frac{4m_{\\mu}^2-2m_{e_-}^2}{2m_{e_{-}}}$$\n",
    "But:\n",
    "$$E_{e_{+}}=E_0e^{-\\frac{Z}{\\chi_0}}$$\n",
    "where $\\chi_0$ is the radiation length of the Berylium: $\\chi_0=35.28$ cm (from PDG). In order to have the condition satisfied along the whole length of the target we impose it at the end of the target ($Z_{max} =3$ cm). In the end, to find the $E_0$ that satisfies the condition we explicit for $E_0$ obtaining:\n",
    "$$E_0>\\left(\\frac{4m_{\\mu}^2-2m_{e_-}^2}{2m_{e_{-}}}\\right)e^{\\frac{Z_{max}}{\\chi_0}}$$ "
   ]
  },
  {
   "cell_type": "code",
   "execution_count": 9,
   "metadata": {},
   "outputs": [
    {
     "name": "stdout",
     "output_type": "stream",
     "text": [
      "47571.03165490111 MeV\n"
     ]
    }
   ],
   "source": [
    "rad_length = 35.28 #cm (radiation length of Berylium taken from PDG)\n",
    "z_max = 3 #cm\n",
    "\n",
    "result = ((4*m_muon**2-2*m_e**2)/(2*m_e))*math.exp(z_max/rad_length)\n",
    "print (result, 'MeV')"
   ]
  },
  {
   "cell_type": "markdown",
   "metadata": {},
   "source": [
    "\\begin{aligned}\n",
    "CDF(g(x))=\\int_{0}^{x}dx \\frac{3}{8} \\dfrac{s^2}{\\left( 2m_e^{2}+s\\right) \\left( 2m_{\\mu }^{2}+s\\right) }\\left( \\left( 1+\\dfrac{4}{s}\\left( m_{e}^{2}+m_{\\mu}^{2}\\right)\\right)(1-\\cos x)+\\left(\\frac{1}{3}\\frac{\\left( 1-\\dfrac{4m_{e}^{2}}{s}\\right)}{\\left( 1-\\dfrac{4m_{\\mu}^{2}}{s}\\right)^{-1}} \\right)(1-\\cos^3 x) \\right)\\\\\n",
    "\\end{aligned}"
   ]
  },
  {
   "cell_type": "markdown",
   "metadata": {},
   "source": [
    "#### Part 2: use the synthetic dataset to design an experiment\n",
    "\n",
    "Assume a $2$ meter long, $1.7$ Tesla dipole magnet is placed after the target. Assume a number of tracking detectors can be placed before the target, after the target before the magnet (one line) and after the magnet (two lines, one for positive the other for negative muons); those could be made of silicon pixels, with a single-hit resolution varying from 50 to 200 ${\\rm \\mu m}$.  \n",
    "Try to address the following items keeping in mind that money matters (i.e. you cannot buy an infinite number of detectors and the smaller the single-hit resolution the higher the cost) and that the layout of the experiment has to be as compact as possible (say whithin 20 m).\n",
    "\n",
    "1. Define the sizes of the various detectors, such that all the particles traverse them (i.e. $100\\%$ detector acceptance); \n",
    "2. have each event of the synthetich dataset \"interacting\" with the detectors, i.e. generate a dataset with the hits (properly smeared due to detector resolutions) left by particles crosssing each detector. That should correspond to the actual measurments gathered by the experiment;\n",
    "3. add some random noise to such measurements (e.g. for each detector accordingly to poisson statistic of mean about 1);\n",
    "4. develop an algorithm to track the particles, both the incoming positrons and the outgoing muons.\n",
    "5. keep in consideration the fact that the two muons emerge synchronously from the target: how small the pitch (the distance between individual pixels) have to be of the detectors prior to the magnet? If that is too small, adjust the tracking algorithm accordingly (i.e. the reconstruct muon tracks could share hits in those detectors) \n",
    "6. compute the resolution of the muon momenta and of the $\\sqrt(s)$;\n",
    "7. (optional, a though one..) correct the muon trajectories for the transverse position of the hard scattering on the target section. Actually the incoming positrons are both dispersed in space (the flat distribution with  $r=1$ cm) and divergent; one would need to correct for that too.\n",
    "\n",
    "### References\n",
    "\n",
    "* [LEMMA](https://arxiv.org/pdf/1509.04454.pdf) paper. The original paper describing the positron-induced low emittance muon source, ehere all the relevant kinematic features of the process have been studied\n",
    "* [Babayaga](https://www2.pv.infn.it/~hepcomplex/babayaga.html) event generator. You may want to install and run it as a comparison for your results.\n",
    "* [2018 Experiment](https://arxiv.org/pdf/1909.13716.pdf): the paper describing the (very poor..) results of the experiment carried out in summer 2018\n",
    "* [2021 proposal](https://cds.cern.ch/record/2712394?ln=en): the proposal for the experiment in 2021\n",
    "\n",
    "\n",
    "### Contact\n",
    "\n",
    "* Marco Zanetti <marco.zanetti@unipd.it>\n",
    "* Camilla Curatolo <camilla.curatolo@pd.infn.it>\n",
    "* Jacopo Pazzini <jacopo.pazzini@unipd.it>\n",
    "* Alberto Zucchetta <alberto.zucchetta@pd.infn.it>"
   ]
  }
 ],
 "metadata": {
  "kernelspec": {
   "display_name": "Python 3",
   "language": "python",
   "name": "python3"
  },
  "language_info": {
   "codemirror_mode": {
    "name": "ipython",
    "version": 3
   },
   "file_extension": ".py",
   "mimetype": "text/x-python",
   "name": "python",
   "nbconvert_exporter": "python",
   "pygments_lexer": "ipython3",
   "version": "3.7.4"
  }
 },
 "nbformat": 4,
 "nbformat_minor": 2
}
