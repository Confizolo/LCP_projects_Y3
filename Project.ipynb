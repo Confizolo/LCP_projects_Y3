{
 "cells": [
  {
   "cell_type": "markdown",
   "metadata": {},
   "source": [
    "# Simulation of a positron-induced Muon Source (part 1)\n",
    "\n",
    "### Description\n",
    "\n",
    "The production of a high brillance muon beam is one of the most important challenge for the future of Particle Physics. A particularly interesting idea consists of shooting high energy positrons on a target, aiming at the production of muons by means of the process $e^+ + e^- \\rightarrow \\mu^+ + \\mu^-$. To mimize the divergence of the resulting \"muon beam\", the positrons energy is chosen so that the reaction occurs close to threshold (assuming the electrons in the target to be at rest). The main goal of this project is to produce a Monte Carlo simulation of such a process. \n",
    "\n",
    "### Assignments\n",
    "\n",
    "The project is split into two parts, which are both reported here for consistency. This group has only to cover _part 1_.\n",
    "\n",
    "#### Part 1: generate a simulated dataset of $e^+ + e^- \\rightarrow \\mu^+ + \\mu^-$ events.\n",
    "\n",
    "1. Compute the process leading-order cross section, $\\sigma(\\theta; \\sqrt{s})$, as a function of the scattering angle $\\theta$ and with the  center of mass energy $\\sqrt{s}$ as a parameter. Start by computing it in the center of mass system. N.B.: textbooks reports such cross section in the relativistic limit, i.e. for $\\sqrt{s}\\gg m_\\mu$, which is clearly not the case here ($\\sqrt{s}\\sim 2m_\\mu$);\n",
    "2. compute and display the angle and momentum components distributions of the emerging muon pairs;\n",
    "3. boost muons four-momenta in the laboratory frame, i.e. in the frame where the electron is at rest and the positron has enough energy to give rise to the process;\n",
    "4. write a Monte Carlo simulation that generates scattering events following the distributions that you found analytically; \n",
    "5. produce a synthetic dataset of about $N=10^5$ (or more) events. Events should be listed as rows in a file with columns representing the muons coordinates (keep in mind that in the lab frame muons are relativistic and thus the number of coordinates can be only 3 per muon);\n",
    "6. assume a $3$ cm thick Beryllium block is used as target and a rate of positron on target of $10^6$ Hz. Compute the rescaling factor (weight) you need to apply to the $N$ simulated events such that they represent the statistics that would be gathered in a week of countinuous operations;\n",
    "7. repeat what done so far simulating now the actual transverse shape and energy spread of the beam: for the former assume a flat distribution in a circle of radius $r=1$ cm and for the latter a gaussian distribution centered at the nominal beam energy and a width of $0.5$ GeV;\n",
    "8. given that the electrons traversing the target lose energy as $E(z)=E_0 \\exp{-z/X_0}$ (with z the longitudinal coordinate of the target, the one parallel to the beam direction and $X_0$ (35.28 cm, Dudo) is the Beryllium radiation length), compute the nominal beam energy $E_0$ such that muon pairs can be generated along the whole length of the target;\n",
    "9. (optional) take the former point into account when generating the events (i.e. the proccess $\\sqrt{s}$ depend on the position along the target where the $e^+ - e^-$ scattering occurrs."
   ]
  },
  {
   "cell_type": "markdown",
   "metadata": {},
   "source": [
    "### Simulation of positron-induced Muon Source\n",
    "\n",
    "The main goal of this project is the simulation of a muon source induced by an electron-positron pair annihilation.\n",
    "The calculation of the cross section comes from the derivation of the unpolarised scattering amplitude - we are not interested in the polarisation of both incoming and outgoing particles. \n",
    "Moreover, we are not interested in considering the annihilation in the usual Ultra Relativistic limit ($m \\sim 0$), but we are interested in the range of energy close to the threshold for the muon pair production: $\\sqrt s \\sim 2m_\\mu$. \n",
    "\n",
    "1. The differential cross section for the considered process, in the CoM frame (\\*-quantities), has the following expression: $$\\left(\\frac{d\\sigma}{d\\Omega}\\right)^* \\Big\\rvert_{CoM} (\\sqrt s, \\theta^*, \\phi^*)= \\frac{\\alpha^2}{4s}\\left(1-\\frac{4m_\\mu^2}{s}\\right)^{1/2}\\left(1-\\frac{4m_e^2}{s}\\right)^{-1/2}\\left[1+\\frac{4}{s}\\left(m_e^2+m_\\mu^2\\right)+\\left(1-\\frac{4m_\\mu^2}{s}\\right)\\left(1-\\frac{4m_e^2}{s}\\right)\\cos^2\\theta^*\\right]$$\n",
    "\n",
    "where the differential cross section in the center of mass is expressed as a function of the (CoM) energy $\\sqrt s$ (the first Mandelstam variable, equal for both $e$ and $\\mu$ pairs in che cms frame), the masses of $e^+$ and $e^-$ $m_e$ and of the muons $m_\\mu$, and the emission angle in the center of mass $\\theta$. ($\\alpha$ is the EM constant, $\\alpha=\\frac{e^2}{4\\pi}$). One can also notice that the differential cross section depends only on the $\\theta$ angle, and not on the other angle $\\phi$.\n",
    "\n",
    "The total cross section can be found integrating over the solid angle. \n",
    "$$ \\sigma (\\sqrt s) = \\int_{4\\pi} d \\Omega^* \\frac{d\\sigma^*}{d\\Omega^*} = \\int_0^{\\pi} d\\theta^* sin\\theta^* \\int_0^{2\\pi} d\\phi^* \\frac{d\\sigma^*}{d\\Omega^*} =  4\\pi\\frac{\\alpha^2}{3s^3}\\left(1-\\frac{4m_\\mu^2}{s}\\right)^{1/2}\\left(1-\\frac{4m_e^2}{s}\\right)^{-1/2}(2m_e^2+s)(2m_\\mu^2+s) $$ \n",
    " \n",
    "2. The angular distribution can be simply computed normalizing the differential cross section with respect to the total one: \n",
    "$$ f(\\theta^*, \\phi^*) = \\frac{1}{\\sigma} \\frac{d\\sigma^*}{d\\Omega^*}$$ \n",
    "\n",
    "As we are considering a case in which we have a stationary target, we need to pass from the CM coordinates to the LAB ones. Of course a Lorentz boost is going to be involved for both angles and spatial coordinates. \n",
    "\n",
    "In the CM frame, the 4-momentum for the incoming and outgoing particles can be written as: \n",
    "$$p_{e^\\pm}^* = (E^*, \\pm \\vec p_e^{\\,*}) \\,\\,\\,\\,\\,\\,\\, p_{\\mu ^\\pm}^{\\prime\\,*} = (E^*, \\pm \\vec p_\\mu^{\\,\\prime\\,*})$$\n",
    "\n",
    "The speed of the center of mass $\\beta^*$, in the case in which we consider the electron at rest is given by: \n",
    "        $$ \\beta^* = \\frac{p_{e^+}}{E_{e^+}+m_{e^-}}$$\n",
    "Moreover, as we consider a process in which there is the production of two muons ($m_\\mu \\sim 207 m_e$), we can well approximate the parameter $ \\beta^* \\sim \\frac{p_{e^+}}{E_{e^+}} = \\beta_{e^+} $\n",
    "\n",
    "The energy of the CoM $E^*$ can be written in terms of the Mandelstam variable *s*: $\\sqrt s = \\sqrt{p_{e^-}^2+p_{e^+}^2} = 2E^*$ ( $\\sim 2m_\\mu$ in the considered case).\n",
    "\n",
    "And so, it follows:\n",
    "\n",
    "$$\\beta^*_{e^\\pm} = \\frac{\\lvert\\vec p^{\\,*}\\rvert}{E^*} = \\frac{ \\sqrt{(E^*)^2-m_e^2}}{E^*} = \\sqrt{1-\\frac{4m_e^2}{s} } $$\n",
    "\n",
    "And analogously, $$\\beta^*_{\\mu^\\pm} = \\sqrt{1-\\frac{4m_\\mu^2}{s}}$$\n",
    "(The factors we have in the cross section formula).\n",
    "\n",
    "\n",
    "\n"
   ]
  },
  {
   "cell_type": "markdown",
   "metadata": {},
   "source": [
    "2. Compute and display the angle and momentum components distributions of the emerging muon pairs;"
   ]
  },
  {
   "cell_type": "code",
   "execution_count": 1,
   "metadata": {},
   "outputs": [
    {
     "data": {
      "text/plain": [
       "<Figure size 640x480 with 1 Axes>"
      ]
     },
     "metadata": {},
     "output_type": "display_data"
    },
    {
     "name": "stdout",
     "output_type": "stream",
     "text": [
      "It can be also verified that this function is well reproduced at different values of s.\n"
     ]
    }
   ],
   "source": [
    "import numpy as np \n",
    "import pandas as pd\n",
    "import matplotlib.pyplot as plt\n",
    "import seaborn as sns\n",
    "import math\n",
    "#import spingi as sp\n",
    "#import amonoi as ano\n",
    "\n",
    "alpha  = 1/(137.035999084) #dimensionless CODATA 2018 Fine-Structure constant\n",
    "m_muon = 105.6583755       #[MeV] CODATA 2018 Muon mass\n",
    "m_e    = 0.51099895        #[MeV] CODATA 2018 Electron mass\n",
    "s      = 220**2            #[MeV] For the sake of simplicity we take as a reference pow(sqrt(s),2). \n",
    "                           #We have choosen a s-value close to 2 m_mu, as required by the considered process\n",
    "\n",
    "\n",
    "def dsigmadtheta(s,theta, phi = 0):\n",
    "    return (alpha**2/(4*s))*(1-(4*m_muon)/s)**0.5*((1-(4*m_e)/s))**-0.5*(1+(4/s)*(m_e**2+m_muon**2)+(1-(4*m_e)/s)*(1-(4*m_muon)/s)*np.cos(theta)**2)\n",
    "\n",
    "def sigma(s):\n",
    "    return 4*np.pi*(alpha**2/(3*s**3))*(1-(4*m_muon)/s)**0.5*((1-(4*m_e)/s))**-0.5*(2*m_e**2+s)*(2*m_muon**2+s)\n",
    "    \n",
    "def f(s, theta, phi = 0):\n",
    "    return dsigmadtheta(s,theta)/sigma(s)\n",
    "\n",
    "\n",
    "x = np.linspace(0,np.pi,100)\n",
    "plt.title(\"Angle Distribution\")\n",
    "plt.xlabel(r'Center of mass emission angle $\\theta^*[rad]$' )\n",
    "plt.ylabel(r'Angle distribution $f(\\sqrt{s} = 220 MeV, \\theta^*)$' )\n",
    "plt.plot(x, f(s,x))\n",
    "plt.show()\n",
    "\n",
    "print(\"It can be also verified that this function is well reproduced at different values of s.\")"
   ]
  },
  {
   "cell_type": "markdown",
   "metadata": {},
   "source": [
    "In order to write the actual components of the momentum of the emitted muons, we need to generate some random numbers distributed accordingly to the angle distribution just shown.\n",
    "\n",
    "In order to achieve such a result, we need to calculate the cumulative density funcion (CDF) of the angle distribution $f(\\theta^*, \\phi^*) := g(\\theta^*, 2\\pi)$. For simplicity we will consider $\\phi^* = 2\\pi$ as the contribution in $\\phi$ is actually neglected.\n",
    "\n",
    "\\begin{aligned}\n",
    "g(\\theta^*) = \\int _{0}^{\\theta^*}dx\\sin x\\frac{3}{4}\\frac{2\\pi}{4\\pi} \\dfrac{s^2}{\\left( 2m_e^{2}+s\\right) \\left( 2m_{\\mu }^{2}+s\\right) }\\left( 1+\\dfrac{4}{s}\\left( m_{e}^{2}+m_{\\mu}^{2}\\right) +\\left( 1-\\dfrac{4m_{e}^{2}}{s}\\right)\\left( 1-\\dfrac{4m_{\\mu}^{2}}{s}\\right) \\cos^2x \\right)\\\\\n",
    "\\end{aligned}\n",
    "\n",
    "\n",
    "\\begin{aligned}\n",
    "= \\frac{3}{8} \\dfrac{s^2}{\\left( 2m_e^{2}+s\\right) \\left( 2m_{\\mu }^{2}+s\\right) }\\left( - \\left( 1+\\dfrac{4}{s}\\left( m_{e}^{2}+m_{\\mu}^{2}\\right)\\right)\\cos x+\\left( - \\frac{1}{3}\\left( 1-\\dfrac{4m_{e}^{2}}{s}\\right)\\left( 1-\\dfrac{4m_{\\mu}^{2}}{s}\\right) \\right)\\cos^3 x \\right) \\Big\\rvert_0^{\\theta^*}\\\\\n",
    "\\end{aligned}\n",
    "\n",
    "\\begin{aligned}\n",
    "= \\frac{3}{8} \\dfrac{s^2}{\\left( 2m_e^{2}+s\\right) \\left( 2m_{\\mu }^{2}+s\\right) }\\left( \\left( 1+\\dfrac{4}{s}\\left( m_{e}^{2}+m_{\\mu}^{2}\\right)\\right)(1-\\cos \\theta^*)+\\left(\\frac{1}{3}\\left( 1-\\dfrac{4m_{e}^{2}}{s}\\right)\\left( 1-\\dfrac{4m_{\\mu}^{2}}{s}\\right) \\right)(1-\\cos^3 \\theta^*) \\right)\\\\\n",
    "\\end{aligned}\n"
   ]
  },
  {
   "cell_type": "code",
   "execution_count": 2,
   "metadata": {},
   "outputs": [
    {
     "name": "stderr",
     "output_type": "stream",
     "text": [
      "/Library/Frameworks/Python.framework/Versions/3.7/lib/python3.7/site-packages/matplotlib/mathtext.py:2525: SyntaxWarning: Exception creating Regex for oneOf, building MatchFirst\n",
      "  p.subsuperop    <<= oneOf([\"_\", \"^\"])\n"
     ]
    },
    {
     "data": {
      "image/png": "[encoded data removed]",
      "text/plain": [
       "<Figure size 432x288 with 1 Axes>"
      ]
     },
     "metadata": {
      "needs_background": "light"
     },
     "output_type": "display_data"
    }
   ],
   "source": [
    "def g(s, x): #x is a dummy for theta star\n",
    "    return s**2*3./8.*((1+4*(m_e**2+m_muon**2)/s)*(1-np.cos(x))+(1-4*m_e**2/s)*(1-4*m_muon**2/s)*(1-np.cos(x))/3)/((2*m_e**2+s)*(2*m_muon**2+s))\n",
    "\n",
    "plt.title(\"Cumulative function for the angle distribution\")\n",
    "plt.xlabel(r'Center of mass emission angle $\\theta^*[rad]$' )\n",
    "plt.ylabel(r'Cumulative function, $g(\\sqrt{s} = 220 MeV, \\theta^*)$' )\n",
    "\n",
    "plt.plot(x,g(s,x))\n",
    "plt.show()"
   ]
  },
  {
   "cell_type": "markdown",
   "metadata": {},
   "source": [
    "We can now observe that the norm of the momentum of the outgoing muon can be written as follows:\n",
    "$$ \\lvert \\vec p^{\\,*}_\\mu \\rvert = \\sqrt {\\frac{s}{4}-m_\\mu^2} $$\n",
    "And the momentum components' distributions can be simply derived knowing the center of mass energy - s - and the emission angles in the CoM - $ \\theta^* $ and $ \\phi^* $. \n",
    "\n",
    "$$ p^*_\\mu = \\lvert \\vec p^{\\,*}_\\mu \\rvert (\\sqrt(s)/\\lvert \\vec p^{\\,*}_\\mu \\rvert, sin\\theta^* cos\\phi^*, sin\\theta^* sin\\phi^*, cos\\theta^*) $$\n",
    "\n",
    "3. Finally, the relation between the Lab angles and the COM ones has the usual formula: \n",
    "$$tan \\theta_\\mu  = \\frac {sin\\theta^*_\\mu}{\\gamma(cos\\theta^*_\\mu+\\beta / \\beta^*_\\mu)}   $$\n",
    "\n",
    "\n",
    "If we are consider, without loss of generalities, a boost towards the x axis, the relations between the energy and momentum components become:  \n",
    "$$ E_1 = \\gamma ( E^*+\\beta p^*_x) \\,\\,\\,\\,\\,\\, p_{1,x} = \\gamma(\\beta E^*+p^*_x ) $$\n",
    "\n",
    "$$ E_2 = \\gamma ( E^*-\\beta p^*_x) \\,\\,\\,\\,\\,\\, p_{2,x} = \\gamma(\\beta E^*-p^*_x ) $$\n",
    "The relation $$\\vec p^*=\\vec p_1^*=-\\vec p_2^*$$ turns out, setting $$\\theta_1=\\theta^*, \\,\\,\\,\\,\\,\\, \\phi_1=\\phi^* $$ in the following relation between the angles of the two emerging muons: $$\\theta_2=\\pi-\\theta^*, \\,\\,\\,\\,\\,\\,  \\phi_2=\\phi^*+\\pi$$"
   ]
  },
  {
   "cell_type": "markdown",
   "metadata": {},
   "source": [
    "4 To find out the inverse cumulative distribution function we sample "
   ]
  },
  {
   "cell_type": "code",
   "execution_count": 3,
   "metadata": {
    "scrolled": true
   },
   "outputs": [
    {
     "data": {
      "image/png": "[encoded data removed]",
      "text/plain": [
       "<Figure size 1080x360 with 3 Axes>"
      ]
     },
     "metadata": {
      "needs_background": "light"
     },
     "output_type": "display_data"
    }
   ],
   "source": [
    "from scipy.interpolate import UnivariateSpline\n",
    "from scipy.interpolate import InterpolatedUnivariateSpline\n",
    "from scipy.interpolate import interp1d\n",
    "from matplotlib import pyplot as plt \n",
    "\n",
    "fig, ax = plt.subplots(1,3, figsize = (15,5))\n",
    "\n",
    "N = 10**5 \n",
    "\n",
    "#angles on which we sample the inverse CDF\n",
    "theta_star = np.linspace(0, np.pi, N)\n",
    "\n",
    "#three version of inverse CDF sampling\n",
    "inv_cdf1 = UnivariateSpline(g(s,theta_star),theta_star, ext=0)\n",
    "inv_cdf2 = InterpolatedUnivariateSpline(g(s,theta_star),theta_star, ext=0)\n",
    "inv_cdf3 = interp1d(g(s, theta_star), theta_star)\n",
    "\n",
    "#same plot on each ax of the points\n",
    "for i in range(3):\n",
    "    ax[i].plot(theta_star,\n",
    "               g(s,theta_star),\n",
    "               '*',\n",
    "               alpha = 0.1,\n",
    "               color = 'grey',\n",
    "               label = 'Samples'\n",
    "              )\n",
    "    \n",
    "random_num = np.random.rand(N)\n",
    "num_sorted = np.sort(random_num)\n",
    "\n",
    "ax[0].set_title('CDF sampled with UnivariateSpline')\n",
    "ax[0].plot(inv_cdf1(num_sorted),\n",
    "           num_sorted,\n",
    "           color = 'red',\n",
    "           label = 'inv_CDF'\n",
    "          )\n",
    "\n",
    "ax[1].set_title('CDF sampled with InterpolatedUnivariateSpline')\n",
    "ax[1].plot(inv_cdf2(num_sorted),\n",
    "           num_sorted,\n",
    "           color = 'green',\n",
    "           label = 'inv_CDF'\n",
    "          )\n",
    "\n",
    "ax[2].set_title('CDF sampled with interp1d')\n",
    "ax[2].plot(inv_cdf3(num_sorted),\n",
    "           num_sorted,\n",
    "           color = 'green',\n",
    "           label = 'inv_CDF'\n",
    "          )\n",
    "\n",
    "plt.show()\n",
    "\n",
    "\n",
    "#https://stackoverflow.com/questions/6216881/python-interp1d-vs-univariatespline"
   ]
  },
  {
   "cell_type": "code",
   "execution_count": 267,
   "metadata": {},
   "outputs": [
    {
     "name": "stderr",
     "output_type": "stream",
     "text": [
      "/Library/Frameworks/Python.framework/Versions/3.7/lib/python3.7/site-packages/seaborn/distributions.py:2551: FutureWarning: `distplot` is a deprecated function and will be removed in a future version. Please adapt your code to use either `displot` (a figure-level function with similar flexibility) or `histplot` (an axes-level function for histograms).\n",
      "  warnings.warn(msg, FutureWarning)\n",
      "/Library/Frameworks/Python.framework/Versions/3.7/lib/python3.7/site-packages/seaborn/distributions.py:2551: FutureWarning: `distplot` is a deprecated function and will be removed in a future version. Please adapt your code to use either `displot` (a figure-level function with similar flexibility) or `histplot` (an axes-level function for histograms).\n",
      "  warnings.warn(msg, FutureWarning)\n"
     ]
    },
    {
     "data": {
      "text/plain": [
       "<matplotlib.axes._subplots.AxesSubplot at 0x7f8f9d08d890>"
      ]
     },
     "execution_count": 267,
     "metadata": {},
     "output_type": "execute_result"
    },
    {
     "data": {
      "image/png": "[encoded data removed]",
      "text/plain": [
       "<Figure size 432x288 with 1 Axes>"
      ]
     },
     "metadata": {
      "needs_background": "light"
     },
     "output_type": "display_data"
    }
   ],
   "source": [
    "sns.distplot(inv_cdf2(num_sorted))\n",
    "sns.distplot(inv_cdf1(num_sorted))"
   ]
  },
  {
   "cell_type": "code",
   "execution_count": 270,
   "metadata": {},
   "outputs": [],
   "source": [
    "import math\n",
    "\n",
    "def mom_mu_cm(m_muon, s, t, p):\n",
    "    #p_norm = math.sqrt(1-(4*m_muon**2)/s)\n",
    "    p_norm = math.sqrt(s/4-m_muon**2)\n",
    "    p_x_cm = p_norm * np.cos(t)\n",
    "    p_y_cm = p_norm * np.sin(t)*np.cos(p)\n",
    "    p_z_cm = p_norm * np.sin(t)* np.sin(p)\n",
    "    return p_x_cm, p_y_cm, p_z_cm\n",
    "\n",
    "def e_pos_lab(s, m_e):\n",
    "    return s/(2*m_e)-m_e\n",
    "\n",
    "def p_pos_lab(s, m_e):\n",
    "    e_pos = e_pos_lab(s, m_e)\n",
    "    return math.sqrt(e_pos**2-m_e**2)\n",
    "\n",
    "def beta(s, m_e):\n",
    "    e_pos = e_pos_lab(s, m_e)\n",
    "    p_pos = p_pos_lab(s, m_e)\n",
    "    return p_pos / (e_pos + m_e)\n",
    "    \n",
    "def gamma(s, m_e):\n",
    "    return 1./math.sqrt(1-beta(s, m_e)**2)\n",
    "\n",
    "def Ecm(s):\n",
    "    return math.sqrt(s)/2.\n",
    "\n",
    "def boost(s, t, p, m_e, m_muon):\n",
    "    e_cm = Ecm(s)\n",
    "    b = beta(s, m_e)\n",
    "    g = gamma(s, m_e)\n",
    "    px_cm, py_cm, pz_cm = mom_mu_cm(m_muon, s, t, p) #py pz sempre uguali -> no boost\n",
    "    px = g*(b*e_cm + px_cm) #energia e px dipendono dall'angolo\n",
    "    e = g*(e_cm +b*px_cm)\n",
    "    return px, py_cm, pz_cm\n",
    "\n",
    "#quindi avremo un muone con angolo theta* e l'altro con angolo pi-theta*\n",
    "#phi* e phi*+pi\n",
    "\n",
    "def mc_sampling(s, m_e, m_mu, N):\n",
    "    prob = np.random.rand(N)\n",
    "    theta = inv_cdf2(prob)\n",
    "    phi = np.random.uniform(0, 2*np.pi, N)\n",
    "    muon_1 = boost(s, theta, phi, m_e, m_muon)\n",
    "    muon_2 = boost(s, np.pi-theta, phi+np.pi, m_e, m_muon)\n",
    "    return np.asarray(muon_1 + muon_2)"
   ]
  },
  {
   "cell_type": "code",
   "execution_count": 275,
   "metadata": {
    "scrolled": true
   },
   "outputs": [],
   "source": [
    "N = 10**5\n",
    "events = mc_sampling(230**2, m_e, m_muon, N)\n",
    "events = events.T\n",
    "df = pd.DataFrame(events, columns = [\n",
    "                               '$px_{\\mu_1}$',\n",
    "                               '$py_{\\mu_1}$',\n",
    "                               '$pz_{\\mu_1}$',\n",
    "                               '$px_{\\mu_2}$',\n",
    "                               '$py_{\\mu_2}$',\n",
    "                               '$pz_{\\mu_2}$'\n",
    "                              ]\n",
    "                )\n",
    "df.to_csv('Events.csv')"
   ]
  },
  {
   "cell_type": "code",
   "execution_count": 276,
   "metadata": {},
   "outputs": [
    {
     "data": {
      "text/html": [
       "<div>\n",
       "<style scoped>\n",
       "    .dataframe tbody tr th:only-of-type {\n",
       "        vertical-align: middle;\n",
       "    }\n",
       "\n",
       "    .dataframe tbody tr th {\n",
       "        vertical-align: top;\n",
       "    }\n",
       "\n",
       "    .dataframe thead th {\n",
       "        text-align: right;\n",
       "    }\n",
       "</style>\n",
       "<table border=\"1\" class=\"dataframe\">\n",
       "  <thead>\n",
       "    <tr style=\"text-align: right;\">\n",
       "      <th></th>\n",
       "      <th>$px_{\\mu_1}$</th>\n",
       "      <th>$py_{\\mu_1}$</th>\n",
       "      <th>$pz_{\\mu_1}$</th>\n",
       "      <th>$px_{\\mu_2}$</th>\n",
       "      <th>$py_{\\mu_2}$</th>\n",
       "      <th>$pz_{\\mu_2}$</th>\n",
       "    </tr>\n",
       "  </thead>\n",
       "  <tbody>\n",
       "    <tr>\n",
       "      <th>0</th>\n",
       "      <td>29463.052013</td>\n",
       "      <td>11.131884</td>\n",
       "      <td>41.036140</td>\n",
       "      <td>22297.795791</td>\n",
       "      <td>-11.131884</td>\n",
       "      <td>-41.036140</td>\n",
       "    </tr>\n",
       "    <tr>\n",
       "      <th>1</th>\n",
       "      <td>17665.159037</td>\n",
       "      <td>14.940396</td>\n",
       "      <td>-22.483996</td>\n",
       "      <td>34095.688767</td>\n",
       "      <td>-14.940396</td>\n",
       "      <td>22.483996</td>\n",
       "    </tr>\n",
       "    <tr>\n",
       "      <th>2</th>\n",
       "      <td>25628.343493</td>\n",
       "      <td>-18.796055</td>\n",
       "      <td>41.312968</td>\n",
       "      <td>26132.504311</td>\n",
       "      <td>18.796055</td>\n",
       "      <td>-41.312968</td>\n",
       "    </tr>\n",
       "    <tr>\n",
       "      <th>3</th>\n",
       "      <td>35951.816300</td>\n",
       "      <td>-3.117423</td>\n",
       "      <td>6.989628</td>\n",
       "      <td>15809.031504</td>\n",
       "      <td>3.117423</td>\n",
       "      <td>-6.989628</td>\n",
       "    </tr>\n",
       "    <tr>\n",
       "      <th>4</th>\n",
       "      <td>16188.751739</td>\n",
       "      <td>-4.492219</td>\n",
       "      <td>13.658840</td>\n",
       "      <td>35572.096065</td>\n",
       "      <td>4.492219</td>\n",
       "      <td>-13.658840</td>\n",
       "    </tr>\n",
       "    <tr>\n",
       "      <th>...</th>\n",
       "      <td>...</td>\n",
       "      <td>...</td>\n",
       "      <td>...</td>\n",
       "      <td>...</td>\n",
       "      <td>...</td>\n",
       "      <td>...</td>\n",
       "    </tr>\n",
       "    <tr>\n",
       "      <th>99995</th>\n",
       "      <td>16248.009851</td>\n",
       "      <td>-15.142084</td>\n",
       "      <td>-0.265979</td>\n",
       "      <td>35512.837953</td>\n",
       "      <td>15.142084</td>\n",
       "      <td>0.265979</td>\n",
       "    </tr>\n",
       "    <tr>\n",
       "      <th>99996</th>\n",
       "      <td>23361.329738</td>\n",
       "      <td>38.084911</td>\n",
       "      <td>-22.035255</td>\n",
       "      <td>28399.518066</td>\n",
       "      <td>-38.084911</td>\n",
       "      <td>22.035255</td>\n",
       "    </tr>\n",
       "    <tr>\n",
       "      <th>99997</th>\n",
       "      <td>31227.132111</td>\n",
       "      <td>-31.479553</td>\n",
       "      <td>22.492356</td>\n",
       "      <td>20533.715693</td>\n",
       "      <td>31.479553</td>\n",
       "      <td>-22.492356</td>\n",
       "    </tr>\n",
       "    <tr>\n",
       "      <th>99998</th>\n",
       "      <td>26026.748627</td>\n",
       "      <td>-42.488384</td>\n",
       "      <td>-15.988188</td>\n",
       "      <td>25734.099177</td>\n",
       "      <td>42.488384</td>\n",
       "      <td>15.988188</td>\n",
       "    </tr>\n",
       "    <tr>\n",
       "      <th>99999</th>\n",
       "      <td>24166.462459</td>\n",
       "      <td>30.410547</td>\n",
       "      <td>-32.840582</td>\n",
       "      <td>27594.385346</td>\n",
       "      <td>-30.410547</td>\n",
       "      <td>32.840582</td>\n",
       "    </tr>\n",
       "  </tbody>\n",
       "</table>\n",
       "<p>100000 rows × 6 columns</p>\n",
       "</div>"
      ],
      "text/plain": [
       "       $px_{\\mu_1}$  $py_{\\mu_1}$  $pz_{\\mu_1}$  $px_{\\mu_2}$  $py_{\\mu_2}$  \\\n",
       "0      29463.052013     11.131884     41.036140  22297.795791    -11.131884   \n",
       "1      17665.159037     14.940396    -22.483996  34095.688767    -14.940396   \n",
       "2      25628.343493    -18.796055     41.312968  26132.504311     18.796055   \n",
       "3      35951.816300     -3.117423      6.989628  15809.031504      3.117423   \n",
       "4      16188.751739     -4.492219     13.658840  35572.096065      4.492219   \n",
       "...             ...           ...           ...           ...           ...   \n",
       "99995  16248.009851    -15.142084     -0.265979  35512.837953     15.142084   \n",
       "99996  23361.329738     38.084911    -22.035255  28399.518066    -38.084911   \n",
       "99997  31227.132111    -31.479553     22.492356  20533.715693     31.479553   \n",
       "99998  26026.748627    -42.488384    -15.988188  25734.099177     42.488384   \n",
       "99999  24166.462459     30.410547    -32.840582  27594.385346    -30.410547   \n",
       "\n",
       "       $pz_{\\mu_2}$  \n",
       "0        -41.036140  \n",
       "1         22.483996  \n",
       "2        -41.312968  \n",
       "3         -6.989628  \n",
       "4        -13.658840  \n",
       "...             ...  \n",
       "99995      0.265979  \n",
       "99996     22.035255  \n",
       "99997    -22.492356  \n",
       "99998     15.988188  \n",
       "99999     32.840582  \n",
       "\n",
       "[100000 rows x 6 columns]"
      ]
     },
     "execution_count": 276,
     "metadata": {},
     "output_type": "execute_result"
    }
   ],
   "source": [
    "df"
   ]
  },
  {
   "cell_type": "code",
   "execution_count": 290,
   "metadata": {},
   "outputs": [
    {
     "name": "stderr",
     "output_type": "stream",
     "text": [
      "/Library/Frameworks/Python.framework/Versions/3.7/lib/python3.7/site-packages/seaborn/distributions.py:2551: FutureWarning: `distplot` is a deprecated function and will be removed in a future version. Please adapt your code to use either `displot` (a figure-level function with similar flexibility) or `histplot` (an axes-level function for histograms).\n",
      "  warnings.warn(msg, FutureWarning)\n",
      "/Library/Frameworks/Python.framework/Versions/3.7/lib/python3.7/site-packages/seaborn/distributions.py:2551: FutureWarning: `distplot` is a deprecated function and will be removed in a future version. Please adapt your code to use either `displot` (a figure-level function with similar flexibility) or `histplot` (an axes-level function for histograms).\n",
      "  warnings.warn(msg, FutureWarning)\n",
      "/Library/Frameworks/Python.framework/Versions/3.7/lib/python3.7/site-packages/seaborn/distributions.py:2551: FutureWarning: `distplot` is a deprecated function and will be removed in a future version. Please adapt your code to use either `displot` (a figure-level function with similar flexibility) or `histplot` (an axes-level function for histograms).\n",
      "  warnings.warn(msg, FutureWarning)\n"
     ]
    },
    {
     "data": {
      "image/png": "[encoded data removed]",
      "text/plain": [
       "<Figure size 1080x288 with 3 Axes>"
      ]
     },
     "metadata": {
      "needs_background": "light"
     },
     "output_type": "display_data"
    }
   ],
   "source": [
    "fig, ax = plt.subplots(1,3, figsize = (15,4))\n",
    "sns.distplot(df['$px_{\\mu_1}$']/1000, ax = ax[0], bins = int(np.sqrt(N)))\n",
    "sns.distplot(df['$py_{\\mu_1}$']/1000, ax = ax[1], bins = int(np.sqrt(N)))\n",
    "sns.distplot(df['$pz_{\\mu_1}$']/1000, ax = ax[2], bins = int(np.sqrt(N)))\n",
    "plt.show()\n"
   ]
  },
  {
   "cell_type": "markdown",
   "metadata": {},
   "source": [
    "In order to have threshold production of a muon pair, $\\sqrt {s}$ should be slightly grater than the sum of the mass of two muons\n",
    "$$\\sqrt {s} > 2m_\\mu \\implies s > 4m_\\mu^2 $$ \n",
    "So, rewriting the invariant quantity $s$ in the laboratory frame while taking into account that the electron is at rest we obtain\n",
    "$$ s = E_{e_+}^2 + E_{e_-}^2+2E_{e_+}E_{e_-}-p_{e_+}^2 = E_{e_+}^2 + m_{e_-}^2+2E_{e_+}m_{e_-}-p_{e_+}^2$$\n",
    "Joining the two conditions:\n",
    "$$2E_{e_+}m_{e_-}>4m_{\\mu}^2-2m_{e_-}^2$$\n",
    "And finally the condition on the energy of the positron:\n",
    "$$E_{e_+}>\\frac{4m_{\\mu}^2-2m_{e_-}^2}{2m_{e_{-}}}$$\n",
    "But:\n",
    "$$E_{e_{+}}=E_0e^{-\\frac{Z}{\\chi_0}}$$\n",
    "where $\\chi_0$ is the radiation length of the Berylium: $\\chi_0=35.28$ cm (from PDG). In order to have the condition satisfied along the whole length of the target we impose it at the end of the target ($Z_{max} =3$ cm). In the end, to find the $E_0$ that satisfies the condition we explicit for $E_0$ obtaining:\n",
    "$$E_0>\\left(\\frac{4m_{\\mu}^2-2m_{e_-}^2}{2m_{e_{-}}}\\right)e^{\\frac{Z_{max}}{\\chi_0}}$$ "
   ]
  },
  {
   "cell_type": "code",
   "execution_count": 9,
   "metadata": {},
   "outputs": [
    {
     "name": "stdout",
     "output_type": "stream",
     "text": [
      "47571.03165490111 MeV\n"
     ]
    }
   ],
   "source": [
    "rad_length = 35.28 #cm (radiation length of Berylium taken from PDG)\n",
    "z_max = 3 #cm\n",
    "\n",
    "result = ((4*m_muon**2-2*m_e**2)/(2*m_e))*math.exp(z_max/rad_length)\n",
    "print (result, 'MeV')"
   ]
  },
  {
   "cell_type": "markdown",
   "metadata": {},
   "source": [
    "#### Part 2: use the synthetic dataset to design an experiment\n",
    "\n",
    "Assume a $2$ meter long, $1.7$ Tesla dipole magnet is placed after the target. Assume a number of tracking detectors can be placed before the target, after the target before the magnet (one line) and after the magnet (two lines, one for positive the other for negative muons); those could be made of silicon pixels, with a single-hit resolution varying from 50 to 200 ${\\rm \\mu m}$.  \n",
    "Try to address the following items keeping in mind that money matters (i.e. you cannot buy an infinite number of detectors and the smaller the single-hit resolution the higher the cost) and that the layout of the experiment has to be as compact as possible (say whithin 20 m).\n",
    "\n",
    "1. Define the sizes of the various detectors, such that all the particles traverse them (i.e. $100\\%$ detector acceptance); \n",
    "2. have each event of the synthetich dataset \"interacting\" with the detectors, i.e. generate a dataset with the hits (properly smeared due to detector resolutions) left by particles crosssing each detector. That should correspond to the actual measurments gathered by the experiment;\n",
    "3. add some random noise to such measurements (e.g. for each detector accordingly to poisson statistic of mean about 1);\n",
    "4. develop an algorithm to track the particles, both the incoming positrons and the outgoing muons.\n",
    "5. keep in consideration the fact that the two muons emerge synchronously from the target: how small the pitch (the distance between individual pixels) have to be of the detectors prior to the magnet? If that is too small, adjust the tracking algorithm accordingly (i.e. the reconstruct muon tracks could share hits in those detectors) \n",
    "6. compute the resolution of the muon momenta and of the $\\sqrt(s)$;\n",
    "7. (optional, a though one..) correct the muon trajectories for the transverse position of the hard scattering on the target section. Actually the incoming positrons are both dispersed in space (the flat distribution with  $r=1$ cm) and divergent; one would need to correct for that too.\n",
    "\n",
    "### References\n",
    "\n",
    "* [LEMMA](https://arxiv.org/pdf/1509.04454.pdf) paper. The original paper describing the positron-induced low emittance muon source, ehere all the relevant kinematic features of the process have been studied\n",
    "* [Babayaga](https://www2.pv.infn.it/~hepcomplex/babayaga.html) event generator. You may want to install and run it as a comparison for your results.\n",
    "* [2018 Experiment](https://arxiv.org/pdf/1909.13716.pdf): the paper describing the (very poor..) results of the experiment carried out in summer 2018\n",
    "* [2021 proposal](https://cds.cern.ch/record/2712394?ln=en): the proposal for the experiment in 2021\n",
    "\n",
    "\n",
    "### Contact\n",
    "\n",
    "* Marco Zanetti <marco.zanetti@unipd.it>\n",
    "* Camilla Curatolo <camilla.curatolo@pd.infn.it>\n",
    "* Jacopo Pazzini <jacopo.pazzini@unipd.it>\n",
    "* Alberto Zucchetta <alberto.zucchetta@pd.infn.it>"
   ]
  }
 ],
 "metadata": {
  "kernelspec": {
   "display_name": "Python 3",
   "language": "python",
   "name": "python3"
  },
  "language_info": {
   "codemirror_mode": {
    "name": "ipython",
    "version": 3
   },
   "file_extension": ".py",
   "mimetype": "text/x-python",
   "name": "python",
   "nbconvert_exporter": "python",
   "pygments_lexer": "ipython3",
   "version": "3.7.4"
  }
 },
 "nbformat": 4,
 "nbformat_minor": 2
}
